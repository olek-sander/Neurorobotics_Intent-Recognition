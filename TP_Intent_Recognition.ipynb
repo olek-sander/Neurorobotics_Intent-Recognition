{
  "nbformat": 4,
  "nbformat_minor": 0,
  "metadata": {
    "colab": {
      "name": "TP_Intent-Recognition.ipynb",
      "version": "0.3.2",
      "provenance": [],
      "collapsed_sections": []
    },
    "kernelspec": {
      "name": "python3",
      "display_name": "Python 3"
    }
  },
  "cells": [
    {
      "cell_type": "markdown",
      "metadata": {
        "id": "view-in-github",
        "colab_type": "text"
      },
      "source": [
        "[View in Colaboratory](https://colab.research.google.com/github/youqad/Neurorobotics_Intent-Recognition/blob/master/TP_Intent_Recognition.ipynb)"
      ]
    },
    {
      "metadata": {
        "id": "WlbfbUYq3Rul",
        "colab_type": "text"
      },
      "cell_type": "markdown",
      "source": [
        "# TP 4: Intent recognition"
      ]
    },
    {
      "metadata": {
        "id": "XSTQ2MPC3bCc",
        "colab_type": "text"
      },
      "cell_type": "markdown",
      "source": [
        "# *Exercise 1*: Automatic detection of speaker’s intention from supra-segmental features\n",
        "\n",
        "The aim of this exercice is to develop a human feedback classifier : positive (approval) / negative (prohibition). This classifier might be used to teach robots and/or to guide\n",
        "robot’s learning."
      ]
    },
    {
      "metadata": {
        "id": "NxSsfl7ggNDn",
        "colab_type": "code",
        "colab": {}
      },
      "cell_type": "code",
      "source": [
        "import urllib.request\n",
        "import numpy as np\n",
        "import pandas as pd\n",
        "from google.colab import files as google_files\n",
        "\n",
        "import itertools\n",
        "import matplotlib.pyplot as plt"
      ],
      "execution_count": 0,
      "outputs": []
    },
    {
      "metadata": {
        "id": "RJeps0G1C7zN",
        "colab_type": "code",
        "colab": {}
      },
      "cell_type": "code",
      "source": [
        "def list_from_URL(file_URL, function_applied=None):\n",
        "  lines_bytes = urllib.request.urlopen(file_URL).readlines()\n",
        "  lines = []\n",
        "\n",
        "  for line in lines_bytes:\n",
        "    line = line.decode(\"utf-8\").rstrip()\n",
        "    \n",
        "    if function_applied is not None:\n",
        "      line = function_applied(line)\n",
        "    \n",
        "    lines.append(line)\n",
        "   \n",
        "  return lines\n",
        "\n",
        "def plot_confusion_matrix(cm, classes,\n",
        "                          normalize=False,\n",
        "                          title='Confusion matrix',\n",
        "                          cmap=plt.cm.Blues):\n",
        "    \"\"\"\n",
        "    From http://scikit-learn.org/stable/auto_examples/model_selection/plot_confusion_matrix.html\n",
        "    This function prints and plots the confusion matrix.\n",
        "    Normalization can be applied by setting `normalize=True`.\n",
        "    \"\"\"\n",
        "    if normalize:\n",
        "        cm = cm.astype('float') / cm.sum(axis=1)[:, np.newaxis]\n",
        "        print(\"Normalized confusion matrix\")\n",
        "    else:\n",
        "        print('Confusion matrix, without normalization')\n",
        "\n",
        "    print(cm)\n",
        "\n",
        "    plt.imshow(cm, interpolation='nearest', cmap=cmap)\n",
        "    plt.title(title)\n",
        "    plt.colorbar()\n",
        "    tick_marks = np.arange(len(classes))\n",
        "    plt.xticks(tick_marks, classes, rotation=45)\n",
        "    plt.yticks(tick_marks, classes)\n",
        "\n",
        "    fmt = '.2f' if normalize else 'd'\n",
        "    thresh = cm.max() / 2.\n",
        "    for i, j in itertools.product(range(cm.shape[0]), range(cm.shape[1])):\n",
        "        plt.text(j, i, format(cm[i, j], fmt),\n",
        "                 horizontalalignment=\"center\",\n",
        "                 color=\"white\" if cm[i, j] > thresh else \"black\")\n",
        "\n",
        "    plt.tight_layout()\n",
        "    plt.ylabel('True label')\n",
        "    plt.xlabel('Predicted label')"
      ],
      "execution_count": 0,
      "outputs": []
    },
    {
      "metadata": {
        "id": "IEeGWQQLeYkp",
        "colab_type": "text"
      },
      "cell_type": "markdown",
      "source": [
        "## 1. Extraction of prosodic features ($f_0$ and energy)"
      ]
    },
    {
      "metadata": {
        "id": "cFU3YCMjHeqj",
        "colab_type": "code",
        "colab": {}
      },
      "cell_type": "code",
      "source": [
        "# # /!\\ NO NEED TO EXECUTE THIS CELL AGAIN !!!\n",
        "# \n",
        "# \n",
        "# filenames = list_from_URL('https://raw.githubusercontent.com/youqad/Neurorobotics_Intent-Recognition/master/filenames.txt')\n",
        "# filenames = list(set(filenames))\n",
        "# \n",
        "# files = []\n",
        "# indices = []\n",
        "# \n",
        "# for file in filenames:\n",
        "# \n",
        "#     URL_f0 = 'https://raw.githubusercontent.com/youqad/Neurorobotics_Intent-Recognition/master/data_files/{}.f0'.format(file)\n",
        "#     file_dicts = [{key:val for key, val in zip(['time', 'f0'], map(float, l.split()))} for l in list_from_URL(URL_f0)]\n",
        "# \n",
        "#     URL_en = 'https://raw.githubusercontent.com/youqad/Neurorobotics_Intent-Recognition/master/data_files/{}.en'.format(file)\n",
        "#     for l, d in zip(list_from_URL(URL_en), file_dicts):\n",
        "#       d[\"file\"] = file\n",
        "#       d[\"en\"] = float(l.split()[1])\n",
        "#       d[\"label\"] = file[-2:]\n",
        "# \n",
        "#     files.extend(file_dicts)\n",
        "# \n",
        "# # How `files` looks like:\n",
        "# # files = [ \n",
        "# #           {\"file\": \"cy0001at\", \"time\": 0.02, \"f0\": 0., \"en\": 0.},\n",
        "# #           {\"file\": \"cy0001at\", \"time\": 1.28, \"f0\": 0., \"en\": 0.},\n",
        "# #           ...\n",
        "# #           {\"file\": \"li1450at\", \"time\": 0.02, \"f0\": 0., \"en\": 0.},\n",
        "# #           {\"file\": \"li1450at\", \"time\": 1.56, \"f0\": 404., \"en\": 65.}\n",
        "# #         ]\n",
        "# \n",
        "# pd.DataFrame(files).to_csv('data.csv', encoding='utf-8', index=False) # To reuse it next time\n",
        "# google_files.download('data.csv')"
      ],
      "execution_count": 0,
      "outputs": []
    },
    {
      "metadata": {
        "id": "Uf_9ZVOLjtAH",
        "colab_type": "code",
        "colab": {
          "base_uri": "https://localhost:8080/",
          "height": 235
        },
        "outputId": "23a49aa0-7b1d-477c-c54b-48bc4ff8a9e7"
      },
      "cell_type": "code",
      "source": [
        "# loading training data\n",
        "df = pd.read_csv('https://raw.githubusercontent.com/youqad/Neurorobotics_Intent-Recognition/master/data.csv').set_index('file')\n",
        "\n",
        "df1 = df.loc[df['label'] != 'at']\n",
        "df1.head()"
      ],
      "execution_count": 18,
      "outputs": [
        {
          "output_type": "execute_result",
          "data": {
            "text/html": [
              "<div>\n",
              "<style scoped>\n",
              "    .dataframe tbody tr th:only-of-type {\n",
              "        vertical-align: middle;\n",
              "    }\n",
              "\n",
              "    .dataframe tbody tr th {\n",
              "        vertical-align: top;\n",
              "    }\n",
              "\n",
              "    .dataframe thead th {\n",
              "        text-align: right;\n",
              "    }\n",
              "</style>\n",
              "<table border=\"1\" class=\"dataframe\">\n",
              "  <thead>\n",
              "    <tr style=\"text-align: right;\">\n",
              "      <th></th>\n",
              "      <th>en</th>\n",
              "      <th>f0</th>\n",
              "      <th>label</th>\n",
              "      <th>time</th>\n",
              "    </tr>\n",
              "    <tr>\n",
              "      <th>file</th>\n",
              "      <th></th>\n",
              "      <th></th>\n",
              "      <th></th>\n",
              "      <th></th>\n",
              "    </tr>\n",
              "  </thead>\n",
              "  <tbody>\n",
              "    <tr>\n",
              "      <th>li1377pw</th>\n",
              "      <td>0.0</td>\n",
              "      <td>0.0</td>\n",
              "      <td>pw</td>\n",
              "      <td>0.02</td>\n",
              "    </tr>\n",
              "    <tr>\n",
              "      <th>li1377pw</th>\n",
              "      <td>39.0</td>\n",
              "      <td>0.0</td>\n",
              "      <td>pw</td>\n",
              "      <td>0.04</td>\n",
              "    </tr>\n",
              "    <tr>\n",
              "      <th>li1377pw</th>\n",
              "      <td>40.0</td>\n",
              "      <td>0.0</td>\n",
              "      <td>pw</td>\n",
              "      <td>0.06</td>\n",
              "    </tr>\n",
              "    <tr>\n",
              "      <th>li1377pw</th>\n",
              "      <td>39.0</td>\n",
              "      <td>0.0</td>\n",
              "      <td>pw</td>\n",
              "      <td>0.08</td>\n",
              "    </tr>\n",
              "    <tr>\n",
              "      <th>li1377pw</th>\n",
              "      <td>39.0</td>\n",
              "      <td>0.0</td>\n",
              "      <td>pw</td>\n",
              "      <td>0.10</td>\n",
              "    </tr>\n",
              "  </tbody>\n",
              "</table>\n",
              "</div>"
            ],
            "text/plain": [
              "            en   f0 label  time\n",
              "file                           \n",
              "li1377pw   0.0  0.0    pw  0.02\n",
              "li1377pw  39.0  0.0    pw  0.04\n",
              "li1377pw  40.0  0.0    pw  0.06\n",
              "li1377pw  39.0  0.0    pw  0.08\n",
              "li1377pw  39.0  0.0    pw  0.10"
            ]
          },
          "metadata": {
            "tags": []
          },
          "execution_count": 18
        }
      ]
    },
    {
      "metadata": {
        "id": "VS-Cg8gjelRO",
        "colab_type": "text"
      },
      "cell_type": "markdown",
      "source": [
        "## 2. Extraction of functionals (statistics) : mean, maximum, range, variance, median, first quartile, third quartile, mean absolute of local derivate"
      ]
    },
    {
      "metadata": {
        "id": "Oi-TJTPYmDBQ",
        "colab_type": "code",
        "colab": {
          "base_uri": "https://localhost:8080/",
          "height": 252
        },
        "outputId": "6446db43-936c-4ca3-d4cf-d29652b0dbc7"
      },
      "cell_type": "code",
      "source": [
        "print(df1.columns.values)\n",
        "\n",
        "#df.groupby('file').mean().head()\n",
        "#df1.groupby('file').max().head()\n",
        "#df1.groupby('file').var().head()\n",
        "#df1.groupby('file').median().head()\n",
        "df1.groupby('file').quantile([.25, .75]).head()"
      ],
      "execution_count": 19,
      "outputs": [
        {
          "output_type": "stream",
          "text": [
            "['en' 'f0' 'label' 'time']\n"
          ],
          "name": "stdout"
        },
        {
          "output_type": "execute_result",
          "data": {
            "text/html": [
              "<div>\n",
              "<style scoped>\n",
              "    .dataframe tbody tr th:only-of-type {\n",
              "        vertical-align: middle;\n",
              "    }\n",
              "\n",
              "    .dataframe tbody tr th {\n",
              "        vertical-align: top;\n",
              "    }\n",
              "\n",
              "    .dataframe thead th {\n",
              "        text-align: right;\n",
              "    }\n",
              "</style>\n",
              "<table border=\"1\" class=\"dataframe\">\n",
              "  <thead>\n",
              "    <tr style=\"text-align: right;\">\n",
              "      <th></th>\n",
              "      <th></th>\n",
              "      <th>en</th>\n",
              "      <th>f0</th>\n",
              "      <th>time</th>\n",
              "    </tr>\n",
              "    <tr>\n",
              "      <th>file</th>\n",
              "      <th></th>\n",
              "      <th></th>\n",
              "      <th></th>\n",
              "      <th></th>\n",
              "    </tr>\n",
              "  </thead>\n",
              "  <tbody>\n",
              "    <tr>\n",
              "      <th rowspan=\"2\" valign=\"top\">cy0007pw</th>\n",
              "      <th>0.25</th>\n",
              "      <td>41.00</td>\n",
              "      <td>0.0</td>\n",
              "      <td>0.525</td>\n",
              "    </tr>\n",
              "    <tr>\n",
              "      <th>0.75</th>\n",
              "      <td>66.00</td>\n",
              "      <td>189.5</td>\n",
              "      <td>1.535</td>\n",
              "    </tr>\n",
              "    <tr>\n",
              "      <th rowspan=\"2\" valign=\"top\">cy0008pw</th>\n",
              "      <th>0.25</th>\n",
              "      <td>41.00</td>\n",
              "      <td>0.0</td>\n",
              "      <td>0.270</td>\n",
              "    </tr>\n",
              "    <tr>\n",
              "      <th>0.75</th>\n",
              "      <td>64.50</td>\n",
              "      <td>192.0</td>\n",
              "      <td>0.770</td>\n",
              "    </tr>\n",
              "    <tr>\n",
              "      <th>cy0009pw</th>\n",
              "      <th>0.25</th>\n",
              "      <td>40.75</td>\n",
              "      <td>0.0</td>\n",
              "      <td>0.395</td>\n",
              "    </tr>\n",
              "  </tbody>\n",
              "</table>\n",
              "</div>"
            ],
            "text/plain": [
              "                  en     f0   time\n",
              "file                              \n",
              "cy0007pw 0.25  41.00    0.0  0.525\n",
              "         0.75  66.00  189.5  1.535\n",
              "cy0008pw 0.25  41.00    0.0  0.270\n",
              "         0.75  64.50  192.0  0.770\n",
              "cy0009pw 0.25  40.75    0.0  0.395"
            ]
          },
          "metadata": {
            "tags": []
          },
          "execution_count": 19
        }
      ]
    },
    {
      "metadata": {
        "id": "fuQAy00Mshr_",
        "colab_type": "code",
        "colab": {
          "base_uri": "https://localhost:8080/",
          "height": 286
        },
        "outputId": "9bc6e72c-0bc4-4ea9-be19-1c86e0dda1f6"
      },
      "cell_type": "code",
      "source": [
        "list_features  = ['mean', \n",
        "                  'max',\n",
        "                  ('range', lambda x: max(x)-min(x)),\n",
        "                  'var',\n",
        "                  'median',\n",
        "                  ('1st_quantile', lambda x: x.quantile(.25)),\n",
        "                  ('3rd_quantile', lambda x: x.quantile(.75)),\n",
        "                  ('mean_absolute_local_derivate', lambda x: abs(x.diff()).mean())\n",
        "                 ]\n",
        "\n",
        "df1.groupby('file')['f0','en'].agg(list_features).head()"
      ],
      "execution_count": 20,
      "outputs": [
        {
          "output_type": "execute_result",
          "data": {
            "text/html": [
              "<div>\n",
              "<style scoped>\n",
              "    .dataframe tbody tr th:only-of-type {\n",
              "        vertical-align: middle;\n",
              "    }\n",
              "\n",
              "    .dataframe tbody tr th {\n",
              "        vertical-align: top;\n",
              "    }\n",
              "\n",
              "    .dataframe thead tr th {\n",
              "        text-align: left;\n",
              "    }\n",
              "\n",
              "    .dataframe thead tr:last-of-type th {\n",
              "        text-align: right;\n",
              "    }\n",
              "</style>\n",
              "<table border=\"1\" class=\"dataframe\">\n",
              "  <thead>\n",
              "    <tr>\n",
              "      <th></th>\n",
              "      <th colspan=\"8\" halign=\"left\">f0</th>\n",
              "      <th colspan=\"8\" halign=\"left\">en</th>\n",
              "    </tr>\n",
              "    <tr>\n",
              "      <th></th>\n",
              "      <th>mean</th>\n",
              "      <th>max</th>\n",
              "      <th>range</th>\n",
              "      <th>var</th>\n",
              "      <th>median</th>\n",
              "      <th>1st_quantile</th>\n",
              "      <th>3rd_quantile</th>\n",
              "      <th>mean_absolute_local_derivate</th>\n",
              "      <th>mean</th>\n",
              "      <th>max</th>\n",
              "      <th>range</th>\n",
              "      <th>var</th>\n",
              "      <th>median</th>\n",
              "      <th>1st_quantile</th>\n",
              "      <th>3rd_quantile</th>\n",
              "      <th>mean_absolute_local_derivate</th>\n",
              "    </tr>\n",
              "    <tr>\n",
              "      <th>file</th>\n",
              "      <th></th>\n",
              "      <th></th>\n",
              "      <th></th>\n",
              "      <th></th>\n",
              "      <th></th>\n",
              "      <th></th>\n",
              "      <th></th>\n",
              "      <th></th>\n",
              "      <th></th>\n",
              "      <th></th>\n",
              "      <th></th>\n",
              "      <th></th>\n",
              "      <th></th>\n",
              "      <th></th>\n",
              "      <th></th>\n",
              "      <th></th>\n",
              "    </tr>\n",
              "  </thead>\n",
              "  <tbody>\n",
              "    <tr>\n",
              "      <th>cy0007pw</th>\n",
              "      <td>92.284314</td>\n",
              "      <td>257.0</td>\n",
              "      <td>257.0</td>\n",
              "      <td>10372.542128</td>\n",
              "      <td>0.0</td>\n",
              "      <td>0.0</td>\n",
              "      <td>189.50</td>\n",
              "      <td>13.683168</td>\n",
              "      <td>52.313725</td>\n",
              "      <td>71.0</td>\n",
              "      <td>71.0</td>\n",
              "      <td>228.455057</td>\n",
              "      <td>52.0</td>\n",
              "      <td>41.00</td>\n",
              "      <td>66.00</td>\n",
              "      <td>2.970297</td>\n",
              "    </tr>\n",
              "    <tr>\n",
              "      <th>cy0008pw</th>\n",
              "      <td>78.431373</td>\n",
              "      <td>250.0</td>\n",
              "      <td>250.0</td>\n",
              "      <td>9930.090196</td>\n",
              "      <td>0.0</td>\n",
              "      <td>0.0</td>\n",
              "      <td>192.00</td>\n",
              "      <td>26.440000</td>\n",
              "      <td>47.725490</td>\n",
              "      <td>70.0</td>\n",
              "      <td>70.0</td>\n",
              "      <td>321.963137</td>\n",
              "      <td>43.0</td>\n",
              "      <td>41.00</td>\n",
              "      <td>64.50</td>\n",
              "      <td>3.960000</td>\n",
              "    </tr>\n",
              "    <tr>\n",
              "      <th>cy0009pw</th>\n",
              "      <td>69.065789</td>\n",
              "      <td>243.0</td>\n",
              "      <td>243.0</td>\n",
              "      <td>8927.182281</td>\n",
              "      <td>0.0</td>\n",
              "      <td>0.0</td>\n",
              "      <td>182.25</td>\n",
              "      <td>12.853333</td>\n",
              "      <td>49.473684</td>\n",
              "      <td>74.0</td>\n",
              "      <td>74.0</td>\n",
              "      <td>260.839298</td>\n",
              "      <td>42.0</td>\n",
              "      <td>40.75</td>\n",
              "      <td>66.00</td>\n",
              "      <td>3.520000</td>\n",
              "    </tr>\n",
              "    <tr>\n",
              "      <th>cy0010pw</th>\n",
              "      <td>29.196078</td>\n",
              "      <td>221.0</td>\n",
              "      <td>221.0</td>\n",
              "      <td>4696.178994</td>\n",
              "      <td>0.0</td>\n",
              "      <td>0.0</td>\n",
              "      <td>0.00</td>\n",
              "      <td>15.267327</td>\n",
              "      <td>46.049020</td>\n",
              "      <td>77.0</td>\n",
              "      <td>77.0</td>\n",
              "      <td>165.789652</td>\n",
              "      <td>42.0</td>\n",
              "      <td>41.00</td>\n",
              "      <td>50.75</td>\n",
              "      <td>3.306931</td>\n",
              "    </tr>\n",
              "    <tr>\n",
              "      <th>cy0011pw</th>\n",
              "      <td>110.743590</td>\n",
              "      <td>230.0</td>\n",
              "      <td>230.0</td>\n",
              "      <td>9290.400932</td>\n",
              "      <td>172.0</td>\n",
              "      <td>0.0</td>\n",
              "      <td>192.50</td>\n",
              "      <td>7.506494</td>\n",
              "      <td>53.653846</td>\n",
              "      <td>71.0</td>\n",
              "      <td>71.0</td>\n",
              "      <td>258.125375</td>\n",
              "      <td>62.0</td>\n",
              "      <td>41.25</td>\n",
              "      <td>66.00</td>\n",
              "      <td>2.337662</td>\n",
              "    </tr>\n",
              "  </tbody>\n",
              "</table>\n",
              "</div>"
            ],
            "text/plain": [
              "                  f0                                                  \\\n",
              "                mean    max  range           var median 1st_quantile   \n",
              "file                                                                   \n",
              "cy0007pw   92.284314  257.0  257.0  10372.542128    0.0          0.0   \n",
              "cy0008pw   78.431373  250.0  250.0   9930.090196    0.0          0.0   \n",
              "cy0009pw   69.065789  243.0  243.0   8927.182281    0.0          0.0   \n",
              "cy0010pw   29.196078  221.0  221.0   4696.178994    0.0          0.0   \n",
              "cy0011pw  110.743590  230.0  230.0   9290.400932  172.0          0.0   \n",
              "\n",
              "                                                           en              \\\n",
              "         3rd_quantile mean_absolute_local_derivate       mean   max range   \n",
              "file                                                                        \n",
              "cy0007pw       189.50                    13.683168  52.313725  71.0  71.0   \n",
              "cy0008pw       192.00                    26.440000  47.725490  70.0  70.0   \n",
              "cy0009pw       182.25                    12.853333  49.473684  74.0  74.0   \n",
              "cy0010pw         0.00                    15.267327  46.049020  77.0  77.0   \n",
              "cy0011pw       192.50                     7.506494  53.653846  71.0  71.0   \n",
              "\n",
              "                                                       \\\n",
              "                 var median 1st_quantile 3rd_quantile   \n",
              "file                                                    \n",
              "cy0007pw  228.455057   52.0        41.00        66.00   \n",
              "cy0008pw  321.963137   43.0        41.00        64.50   \n",
              "cy0009pw  260.839298   42.0        40.75        66.00   \n",
              "cy0010pw  165.789652   42.0        41.00        50.75   \n",
              "cy0011pw  258.125375   62.0        41.25        66.00   \n",
              "\n",
              "                                       \n",
              "         mean_absolute_local_derivate  \n",
              "file                                   \n",
              "cy0007pw                     2.970297  \n",
              "cy0008pw                     3.960000  \n",
              "cy0009pw                     3.520000  \n",
              "cy0010pw                     3.306931  \n",
              "cy0011pw                     2.337662  "
            ]
          },
          "metadata": {
            "tags": []
          },
          "execution_count": 20
        }
      ]
    },
    {
      "metadata": {
        "id": "-NwHHkQfe1GF",
        "colab_type": "text"
      },
      "cell_type": "markdown",
      "source": [
        "## 3. Check functionals for both voiced (i.e. $f_0\\neq 0$) and unvoiced segments. Which segments are suited for the approach ?"
      ]
    },
    {
      "metadata": {
        "id": "58s4COw1Srye",
        "colab_type": "code",
        "colab": {
          "base_uri": "https://localhost:8080/",
          "height": 286
        },
        "outputId": "bae4428d-b931-4355-fceb-ff4d1bba6d36"
      },
      "cell_type": "code",
      "source": [
        "voiced = df1.loc[df1['f0']!=0].groupby('file')['f0','en'].agg(list_features)\n",
        "voiced.head()"
      ],
      "execution_count": 21,
      "outputs": [
        {
          "output_type": "execute_result",
          "data": {
            "text/html": [
              "<div>\n",
              "<style scoped>\n",
              "    .dataframe tbody tr th:only-of-type {\n",
              "        vertical-align: middle;\n",
              "    }\n",
              "\n",
              "    .dataframe tbody tr th {\n",
              "        vertical-align: top;\n",
              "    }\n",
              "\n",
              "    .dataframe thead tr th {\n",
              "        text-align: left;\n",
              "    }\n",
              "\n",
              "    .dataframe thead tr:last-of-type th {\n",
              "        text-align: right;\n",
              "    }\n",
              "</style>\n",
              "<table border=\"1\" class=\"dataframe\">\n",
              "  <thead>\n",
              "    <tr>\n",
              "      <th></th>\n",
              "      <th colspan=\"8\" halign=\"left\">f0</th>\n",
              "      <th colspan=\"8\" halign=\"left\">en</th>\n",
              "    </tr>\n",
              "    <tr>\n",
              "      <th></th>\n",
              "      <th>mean</th>\n",
              "      <th>max</th>\n",
              "      <th>range</th>\n",
              "      <th>var</th>\n",
              "      <th>median</th>\n",
              "      <th>1st_quantile</th>\n",
              "      <th>3rd_quantile</th>\n",
              "      <th>mean_absolute_local_derivate</th>\n",
              "      <th>mean</th>\n",
              "      <th>max</th>\n",
              "      <th>range</th>\n",
              "      <th>var</th>\n",
              "      <th>median</th>\n",
              "      <th>1st_quantile</th>\n",
              "      <th>3rd_quantile</th>\n",
              "      <th>mean_absolute_local_derivate</th>\n",
              "    </tr>\n",
              "    <tr>\n",
              "      <th>file</th>\n",
              "      <th></th>\n",
              "      <th></th>\n",
              "      <th></th>\n",
              "      <th></th>\n",
              "      <th></th>\n",
              "      <th></th>\n",
              "      <th></th>\n",
              "      <th></th>\n",
              "      <th></th>\n",
              "      <th></th>\n",
              "      <th></th>\n",
              "      <th></th>\n",
              "      <th></th>\n",
              "      <th></th>\n",
              "      <th></th>\n",
              "      <th></th>\n",
              "    </tr>\n",
              "  </thead>\n",
              "  <tbody>\n",
              "    <tr>\n",
              "      <th>cy0007pw</th>\n",
              "      <td>200.276596</td>\n",
              "      <td>257.0</td>\n",
              "      <td>90.0</td>\n",
              "      <td>675.987049</td>\n",
              "      <td>191.0</td>\n",
              "      <td>182.50</td>\n",
              "      <td>213.00</td>\n",
              "      <td>5.869565</td>\n",
              "      <td>65.914894</td>\n",
              "      <td>71.0</td>\n",
              "      <td>16.0</td>\n",
              "      <td>17.775208</td>\n",
              "      <td>66.0</td>\n",
              "      <td>63.5</td>\n",
              "      <td>70.00</td>\n",
              "      <td>1.652174</td>\n",
              "    </tr>\n",
              "    <tr>\n",
              "      <th>cy0008pw</th>\n",
              "      <td>200.000000</td>\n",
              "      <td>250.0</td>\n",
              "      <td>83.0</td>\n",
              "      <td>538.421053</td>\n",
              "      <td>198.5</td>\n",
              "      <td>179.50</td>\n",
              "      <td>210.00</td>\n",
              "      <td>10.368421</td>\n",
              "      <td>61.000000</td>\n",
              "      <td>70.0</td>\n",
              "      <td>70.0</td>\n",
              "      <td>242.736842</td>\n",
              "      <td>66.0</td>\n",
              "      <td>61.5</td>\n",
              "      <td>68.00</td>\n",
              "      <td>5.842105</td>\n",
              "    </tr>\n",
              "    <tr>\n",
              "      <th>cy0009pw</th>\n",
              "      <td>194.407407</td>\n",
              "      <td>243.0</td>\n",
              "      <td>77.0</td>\n",
              "      <td>446.943020</td>\n",
              "      <td>190.0</td>\n",
              "      <td>180.00</td>\n",
              "      <td>209.00</td>\n",
              "      <td>7.192308</td>\n",
              "      <td>67.333333</td>\n",
              "      <td>74.0</td>\n",
              "      <td>20.0</td>\n",
              "      <td>17.923077</td>\n",
              "      <td>68.0</td>\n",
              "      <td>66.0</td>\n",
              "      <td>70.00</td>\n",
              "      <td>2.884615</td>\n",
              "    </tr>\n",
              "    <tr>\n",
              "      <th>cy0010pw</th>\n",
              "      <td>186.125000</td>\n",
              "      <td>221.0</td>\n",
              "      <td>67.0</td>\n",
              "      <td>465.316667</td>\n",
              "      <td>178.5</td>\n",
              "      <td>171.25</td>\n",
              "      <td>204.25</td>\n",
              "      <td>6.466667</td>\n",
              "      <td>65.750000</td>\n",
              "      <td>77.0</td>\n",
              "      <td>25.0</td>\n",
              "      <td>50.466667</td>\n",
              "      <td>64.0</td>\n",
              "      <td>62.0</td>\n",
              "      <td>70.75</td>\n",
              "      <td>4.000000</td>\n",
              "    </tr>\n",
              "    <tr>\n",
              "      <th>cy0011pw</th>\n",
              "      <td>191.955556</td>\n",
              "      <td>230.0</td>\n",
              "      <td>66.0</td>\n",
              "      <td>314.816162</td>\n",
              "      <td>190.0</td>\n",
              "      <td>179.00</td>\n",
              "      <td>204.00</td>\n",
              "      <td>4.113636</td>\n",
              "      <td>65.288889</td>\n",
              "      <td>71.0</td>\n",
              "      <td>19.0</td>\n",
              "      <td>14.710101</td>\n",
              "      <td>65.0</td>\n",
              "      <td>63.0</td>\n",
              "      <td>68.00</td>\n",
              "      <td>0.954545</td>\n",
              "    </tr>\n",
              "  </tbody>\n",
              "</table>\n",
              "</div>"
            ],
            "text/plain": [
              "                  f0                                               \\\n",
              "                mean    max range         var median 1st_quantile   \n",
              "file                                                                \n",
              "cy0007pw  200.276596  257.0  90.0  675.987049  191.0       182.50   \n",
              "cy0008pw  200.000000  250.0  83.0  538.421053  198.5       179.50   \n",
              "cy0009pw  194.407407  243.0  77.0  446.943020  190.0       180.00   \n",
              "cy0010pw  186.125000  221.0  67.0  465.316667  178.5       171.25   \n",
              "cy0011pw  191.955556  230.0  66.0  314.816162  190.0       179.00   \n",
              "\n",
              "                                                           en              \\\n",
              "         3rd_quantile mean_absolute_local_derivate       mean   max range   \n",
              "file                                                                        \n",
              "cy0007pw       213.00                     5.869565  65.914894  71.0  16.0   \n",
              "cy0008pw       210.00                    10.368421  61.000000  70.0  70.0   \n",
              "cy0009pw       209.00                     7.192308  67.333333  74.0  20.0   \n",
              "cy0010pw       204.25                     6.466667  65.750000  77.0  25.0   \n",
              "cy0011pw       204.00                     4.113636  65.288889  71.0  19.0   \n",
              "\n",
              "                                                       \\\n",
              "                 var median 1st_quantile 3rd_quantile   \n",
              "file                                                    \n",
              "cy0007pw   17.775208   66.0         63.5        70.00   \n",
              "cy0008pw  242.736842   66.0         61.5        68.00   \n",
              "cy0009pw   17.923077   68.0         66.0        70.00   \n",
              "cy0010pw   50.466667   64.0         62.0        70.75   \n",
              "cy0011pw   14.710101   65.0         63.0        68.00   \n",
              "\n",
              "                                       \n",
              "         mean_absolute_local_derivate  \n",
              "file                                   \n",
              "cy0007pw                     1.652174  \n",
              "cy0008pw                     5.842105  \n",
              "cy0009pw                     2.884615  \n",
              "cy0010pw                     4.000000  \n",
              "cy0011pw                     0.954545  "
            ]
          },
          "metadata": {
            "tags": []
          },
          "execution_count": 21
        }
      ]
    },
    {
      "metadata": {
        "id": "R-XyYtohGW2R",
        "colab_type": "code",
        "colab": {
          "base_uri": "https://localhost:8080/",
          "height": 235
        },
        "outputId": "d6976be5-70f9-4866-871e-306f240a9a03"
      },
      "cell_type": "code",
      "source": [
        "unvoiced = df1.loc[df1['f0']==0].groupby('file')['en'].agg(list_features)\n",
        "unvoiced.head()"
      ],
      "execution_count": 22,
      "outputs": [
        {
          "output_type": "execute_result",
          "data": {
            "text/html": [
              "<div>\n",
              "<style scoped>\n",
              "    .dataframe tbody tr th:only-of-type {\n",
              "        vertical-align: middle;\n",
              "    }\n",
              "\n",
              "    .dataframe tbody tr th {\n",
              "        vertical-align: top;\n",
              "    }\n",
              "\n",
              "    .dataframe thead th {\n",
              "        text-align: right;\n",
              "    }\n",
              "</style>\n",
              "<table border=\"1\" class=\"dataframe\">\n",
              "  <thead>\n",
              "    <tr style=\"text-align: right;\">\n",
              "      <th></th>\n",
              "      <th>mean</th>\n",
              "      <th>max</th>\n",
              "      <th>range</th>\n",
              "      <th>var</th>\n",
              "      <th>median</th>\n",
              "      <th>1st_quantile</th>\n",
              "      <th>3rd_quantile</th>\n",
              "      <th>mean_absolute_local_derivate</th>\n",
              "    </tr>\n",
              "    <tr>\n",
              "      <th>file</th>\n",
              "      <th></th>\n",
              "      <th></th>\n",
              "      <th></th>\n",
              "      <th></th>\n",
              "      <th></th>\n",
              "      <th></th>\n",
              "      <th></th>\n",
              "      <th></th>\n",
              "    </tr>\n",
              "  </thead>\n",
              "  <tbody>\n",
              "    <tr>\n",
              "      <th>cy0007pw</th>\n",
              "      <td>40.690909</td>\n",
              "      <td>58.0</td>\n",
              "      <td>58.0</td>\n",
              "      <td>113.550842</td>\n",
              "      <td>41.0</td>\n",
              "      <td>40.5</td>\n",
              "      <td>43.5</td>\n",
              "      <td>3.740741</td>\n",
              "    </tr>\n",
              "    <tr>\n",
              "      <th>cy0008pw</th>\n",
              "      <td>39.161290</td>\n",
              "      <td>58.0</td>\n",
              "      <td>58.0</td>\n",
              "      <td>189.606452</td>\n",
              "      <td>42.0</td>\n",
              "      <td>41.0</td>\n",
              "      <td>43.0</td>\n",
              "      <td>5.200000</td>\n",
              "    </tr>\n",
              "    <tr>\n",
              "      <th>cy0009pw</th>\n",
              "      <td>39.632653</td>\n",
              "      <td>56.0</td>\n",
              "      <td>56.0</td>\n",
              "      <td>119.570578</td>\n",
              "      <td>41.0</td>\n",
              "      <td>40.0</td>\n",
              "      <td>42.0</td>\n",
              "      <td>3.625000</td>\n",
              "    </tr>\n",
              "    <tr>\n",
              "      <th>cy0010pw</th>\n",
              "      <td>42.383721</td>\n",
              "      <td>68.0</td>\n",
              "      <td>68.0</td>\n",
              "      <td>101.439261</td>\n",
              "      <td>41.0</td>\n",
              "      <td>40.0</td>\n",
              "      <td>43.0</td>\n",
              "      <td>3.105882</td>\n",
              "    </tr>\n",
              "    <tr>\n",
              "      <th>cy0011pw</th>\n",
              "      <td>37.787879</td>\n",
              "      <td>51.0</td>\n",
              "      <td>51.0</td>\n",
              "      <td>150.922348</td>\n",
              "      <td>41.0</td>\n",
              "      <td>40.0</td>\n",
              "      <td>42.0</td>\n",
              "      <td>4.062500</td>\n",
              "    </tr>\n",
              "  </tbody>\n",
              "</table>\n",
              "</div>"
            ],
            "text/plain": [
              "               mean   max  range         var  median  1st_quantile  \\\n",
              "file                                                                 \n",
              "cy0007pw  40.690909  58.0   58.0  113.550842    41.0          40.5   \n",
              "cy0008pw  39.161290  58.0   58.0  189.606452    42.0          41.0   \n",
              "cy0009pw  39.632653  56.0   56.0  119.570578    41.0          40.0   \n",
              "cy0010pw  42.383721  68.0   68.0  101.439261    41.0          40.0   \n",
              "cy0011pw  37.787879  51.0   51.0  150.922348    41.0          40.0   \n",
              "\n",
              "          3rd_quantile  mean_absolute_local_derivate  \n",
              "file                                                  \n",
              "cy0007pw          43.5                      3.740741  \n",
              "cy0008pw          43.0                      5.200000  \n",
              "cy0009pw          42.0                      3.625000  \n",
              "cy0010pw          43.0                      3.105882  \n",
              "cy0011pw          42.0                      4.062500  "
            ]
          },
          "metadata": {
            "tags": []
          },
          "execution_count": 22
        }
      ]
    },
    {
      "metadata": {
        "id": "xEovkR10fBUe",
        "colab_type": "text"
      },
      "cell_type": "markdown",
      "source": [
        "## 4. Build two databases by randomly extracting examples : Learning database ($60\\%$) and Test database"
      ]
    },
    {
      "metadata": {
        "id": "mVX-LyhLTAgN",
        "colab_type": "code",
        "colab": {}
      },
      "cell_type": "code",
      "source": [
        "# Question 3\n",
        "\n",
        "## Explanation: A sound can be either voiced, like a vowel, or unvoiced, like a consonant. We want to see which of them contains more intention\n",
        " \n",
        "## ps: change \"data\" by the correct name\n",
        "\n",
        "def train_test(df=df1, train_percentage=.6, seed=1):\n",
        "  \n",
        "  voiced = df.loc[df['f0']!=0].groupby('file')['f0','en'].agg(list_features)\n",
        "  unvoiced = df.loc[df['f0']==0].groupby('file')['en'].agg(list_features)\n",
        "\n",
        "  X, Y = {}, {}\n",
        "\n",
        "  X['voiced'], Y['voiced'] = {}, {}\n",
        "  X['unvoiced'], Y['unvoiced'] = {}, {}\n",
        "\n",
        "\n",
        "  X['voiced']['all'] = np.array(df.groupby('file')['f0','en'].agg(list_features))\n",
        "  Y['voiced']['all'] = np.array(df.loc[df['f0']!=0].groupby(['file']).min().label.values)\n",
        "\n",
        "  X['unvoiced']['all'] = np.array(unvoiced)\n",
        "  Y['unvoiced']['all'] = np.array(df.loc[df['f0']==0].groupby(['file']).min().label.values)\n",
        "  \n",
        "  np.random.seed(seed)\n",
        "  \n",
        "  for type in ['voiced', 'unvoiced']:\n",
        "    n = len(X[type]['all'])\n",
        "    ind_rand = np.random.randint(n, size=int(train_percentage*n)) # random indices\n",
        "    train_mask = np.zeros(n, dtype=bool)\n",
        "    train_mask[ind_rand] = True\n",
        "    X[type]['train'], X[type]['test'] = X[type]['all'][train_mask],  X[type]['all'][~train_mask]\n",
        "    Y[type]['train'], Y[type]['test'] = Y[type]['all'][train_mask],  Y[type]['all'][~train_mask]\n",
        "  \n",
        "  return X, Y\n",
        "\n",
        "X1, Y1 = train_test()"
      ],
      "execution_count": 0,
      "outputs": []
    },
    {
      "metadata": {
        "id": "lAckn6PVgfaf",
        "colab_type": "code",
        "colab": {
          "base_uri": "https://localhost:8080/",
          "height": 34
        },
        "outputId": "3da4567c-662a-458a-e246-42dbe36b2a70"
      },
      "cell_type": "code",
      "source": [
        "X1['voiced']['train'].shape"
      ],
      "execution_count": 24,
      "outputs": [
        {
          "output_type": "execute_result",
          "data": {
            "text/plain": [
              "(178, 16)"
            ]
          },
          "metadata": {
            "tags": []
          },
          "execution_count": 24
        }
      ]
    },
    {
      "metadata": {
        "id": "kCplkLkFrLEy",
        "colab_type": "text"
      },
      "cell_type": "markdown",
      "source": [
        "## 5. Train a classifer (k-NN method)"
      ]
    },
    {
      "metadata": {
        "id": "CE7xzKUrPrcH",
        "colab_type": "code",
        "colab": {
          "base_uri": "https://localhost:8080/",
          "height": 51
        },
        "outputId": "89be66b0-7890-434f-de3a-7d012651b5dd"
      },
      "cell_type": "code",
      "source": [
        "# Scikit Learn's kNN classifier:\n",
        "# Just to test, but we will implement it ourselves of course!\n",
        "from sklearn.neighbors import KNeighborsClassifier\n",
        "from sklearn.metrics import accuracy_score\n",
        "\n",
        "def sklearn_knn(k, X, Y):\n",
        "  for type in ['voiced', 'unvoiced']:\n",
        "    kNN = KNeighborsClassifier(n_neighbors=k)\n",
        "    kNN.fit(X[type]['train'], Y[type]['train'])\n",
        "\n",
        "    print(\"Accuracy score for {}: {:.2f}\".format(type, accuracy_score(Y[type]['test'],\n",
        "                                                                  kNN.predict(X[type]['test']))))\n",
        "sklearn_knn(3, X1, Y1)"
      ],
      "execution_count": 32,
      "outputs": [
        {
          "output_type": "stream",
          "text": [
            "Accuracy score for voiced: 0.91\n",
            "Accuracy score for unvoiced: 0.61\n"
          ],
          "name": "stdout"
        }
      ]
    },
    {
      "metadata": {
        "id": "cWqW53zM2yAT",
        "colab_type": "code",
        "colab": {
          "base_uri": "https://localhost:8080/",
          "height": 915
        },
        "outputId": "0eda65ff-e86c-4591-bccc-9dbd70018398"
      },
      "cell_type": "code",
      "source": [
        "# Our own implementation!\n",
        "from scipy.spatial.distance import cdist\n",
        "from sklearn.metrics import confusion_matrix\n",
        "from collections import Counter\n",
        "\n",
        "def kNN(k, X, Y, labels=[\"pw\", \"ap\"]):\n",
        "    # auxiliary function: label prediction (by majority vote)\n",
        "    # based on the nearest neighbors\n",
        "    def predicted_label(ind_neighbors):\n",
        "        label_neighbors = tuple(Y['train'][ind_neighbors])\n",
        "        return Counter(label_neighbors).most_common(1)[0][0]\n",
        "    \n",
        "    # Pairwise distances between test and train data points\n",
        "    dist_matrix = cdist(X['test'], X['train'], 'euclidean')\n",
        "    y_predicted = []\n",
        "\n",
        "    for i in range(len(X['test'])):\n",
        "        ind_k_smallest = np.argpartition(dist_matrix[i, :], k)[:k]\n",
        "        y_predicted.append(predicted_label(ind_k_smallest))\n",
        "    \n",
        "    # Confusion matrix: C[i, j] is the number of observations \n",
        "    # known to be in group i but predicted to be in group j\n",
        "    return confusion_matrix(Y['test'], np.array(y_predicted), labels=labels)\n",
        "\n",
        "plt.figure()\n",
        "cm = kNN(3, X1['voiced'], Y1['voiced'])\n",
        "plot_confusion_matrix(cm, classes=[\"pw\", \"ap\"],\n",
        "                      title='Confusion matrix, without normalization')\n",
        "plt.show()\n",
        "\n",
        "cm2 = kNN(3, X1['unvoiced'], Y1['unvoiced'])\n",
        "plot_confusion_matrix(cm2, classes=[\"pw\", \"ap\"],\n",
        "                      title='Confusion matrix, without normalization')\n",
        "plt.show()"
      ],
      "execution_count": 51,
      "outputs": [
        {
          "output_type": "stream",
          "text": [
            "Confusion matrix, without normalization\n",
            "[[92  8]\n",
            " [ 9 86]]\n"
          ],
          "name": "stdout"
        },
        {
          "output_type": "display_data",
          "data": {
            "image/png": "[encoded data removed]",
            "text/plain": [
              "<matplotlib.figure.Figure at 0x7f58cbd77518>"
            ]
          },
          "metadata": {
            "tags": []
          }
        },
        {
          "output_type": "stream",
          "text": [
            "Confusion matrix, without normalization\n",
            "[[54 57]\n",
            " [20 68]]\n"
          ],
          "name": "stdout"
        },
        {
          "output_type": "display_data",
          "data": {
            "image/png": "[encoded data removed]",
            "text/plain": [
              "<matplotlib.figure.Figure at 0x7f58cbc30cf8>"
            ]
          },
          "metadata": {
            "tags": []
          }
        }
      ]
    },
    {
      "metadata": {
        "id": "3d1lmW3swpLV",
        "colab_type": "text"
      },
      "cell_type": "markdown",
      "source": [
        "# *Exercice 2*: Detection of multiple intents\n",
        "\n",
        "We consider the following intents : \"Approval\", \"Prohibition\" and \"Attention\""
      ]
    },
    {
      "metadata": {
        "id": "juGCnAZsxJcU",
        "colab_type": "text"
      },
      "cell_type": "markdown",
      "source": [
        "## 1. Extract the prosodic features ($f_0$ and energy) and their functionals"
      ]
    },
    {
      "metadata": {
        "id": "gA2VmRgGaq-N",
        "colab_type": "code",
        "colab": {
          "base_uri": "https://localhost:8080/",
          "height": 286
        },
        "outputId": "e68c17ca-a000-47be-8b0f-523af438e467"
      },
      "cell_type": "code",
      "source": [
        "# Easy-peasy! All the work has been done before: all we have to do now is to use \n",
        "# the DataFrame `df` instead of `df1`\n",
        "\n",
        "df.groupby('file')['f0','en'].agg(list_features).head()"
      ],
      "execution_count": 34,
      "outputs": [
        {
          "output_type": "execute_result",
          "data": {
            "text/html": [
              "<div>\n",
              "<style scoped>\n",
              "    .dataframe tbody tr th:only-of-type {\n",
              "        vertical-align: middle;\n",
              "    }\n",
              "\n",
              "    .dataframe tbody tr th {\n",
              "        vertical-align: top;\n",
              "    }\n",
              "\n",
              "    .dataframe thead tr th {\n",
              "        text-align: left;\n",
              "    }\n",
              "\n",
              "    .dataframe thead tr:last-of-type th {\n",
              "        text-align: right;\n",
              "    }\n",
              "</style>\n",
              "<table border=\"1\" class=\"dataframe\">\n",
              "  <thead>\n",
              "    <tr>\n",
              "      <th></th>\n",
              "      <th colspan=\"8\" halign=\"left\">f0</th>\n",
              "      <th colspan=\"8\" halign=\"left\">en</th>\n",
              "    </tr>\n",
              "    <tr>\n",
              "      <th></th>\n",
              "      <th>mean</th>\n",
              "      <th>max</th>\n",
              "      <th>range</th>\n",
              "      <th>var</th>\n",
              "      <th>median</th>\n",
              "      <th>1st_quantile</th>\n",
              "      <th>3rd_quantile</th>\n",
              "      <th>mean_absolute_local_derivate</th>\n",
              "      <th>mean</th>\n",
              "      <th>max</th>\n",
              "      <th>range</th>\n",
              "      <th>var</th>\n",
              "      <th>median</th>\n",
              "      <th>1st_quantile</th>\n",
              "      <th>3rd_quantile</th>\n",
              "      <th>mean_absolute_local_derivate</th>\n",
              "    </tr>\n",
              "    <tr>\n",
              "      <th>file</th>\n",
              "      <th></th>\n",
              "      <th></th>\n",
              "      <th></th>\n",
              "      <th></th>\n",
              "      <th></th>\n",
              "      <th></th>\n",
              "      <th></th>\n",
              "      <th></th>\n",
              "      <th></th>\n",
              "      <th></th>\n",
              "      <th></th>\n",
              "      <th></th>\n",
              "      <th></th>\n",
              "      <th></th>\n",
              "      <th></th>\n",
              "      <th></th>\n",
              "    </tr>\n",
              "  </thead>\n",
              "  <tbody>\n",
              "    <tr>\n",
              "      <th>cy0001at</th>\n",
              "      <td>110.609375</td>\n",
              "      <td>402.0</td>\n",
              "      <td>402.0</td>\n",
              "      <td>27607.511657</td>\n",
              "      <td>0.0</td>\n",
              "      <td>0.0</td>\n",
              "      <td>331.0</td>\n",
              "      <td>23.777778</td>\n",
              "      <td>47.296875</td>\n",
              "      <td>73.0</td>\n",
              "      <td>73.0</td>\n",
              "      <td>327.323165</td>\n",
              "      <td>41.5</td>\n",
              "      <td>40.0</td>\n",
              "      <td>67.0</td>\n",
              "      <td>3.809524</td>\n",
              "    </tr>\n",
              "    <tr>\n",
              "      <th>cy0002at</th>\n",
              "      <td>105.640449</td>\n",
              "      <td>430.0</td>\n",
              "      <td>430.0</td>\n",
              "      <td>27108.528345</td>\n",
              "      <td>0.0</td>\n",
              "      <td>0.0</td>\n",
              "      <td>251.0</td>\n",
              "      <td>15.636364</td>\n",
              "      <td>47.337079</td>\n",
              "      <td>76.0</td>\n",
              "      <td>76.0</td>\n",
              "      <td>269.112360</td>\n",
              "      <td>41.0</td>\n",
              "      <td>40.0</td>\n",
              "      <td>62.0</td>\n",
              "      <td>3.272727</td>\n",
              "    </tr>\n",
              "    <tr>\n",
              "      <th>cy0005at</th>\n",
              "      <td>110.609375</td>\n",
              "      <td>402.0</td>\n",
              "      <td>402.0</td>\n",
              "      <td>27607.511657</td>\n",
              "      <td>0.0</td>\n",
              "      <td>0.0</td>\n",
              "      <td>331.0</td>\n",
              "      <td>23.777778</td>\n",
              "      <td>47.296875</td>\n",
              "      <td>73.0</td>\n",
              "      <td>73.0</td>\n",
              "      <td>327.323165</td>\n",
              "      <td>41.5</td>\n",
              "      <td>40.0</td>\n",
              "      <td>67.0</td>\n",
              "      <td>3.809524</td>\n",
              "    </tr>\n",
              "    <tr>\n",
              "      <th>cy0006at</th>\n",
              "      <td>105.640449</td>\n",
              "      <td>430.0</td>\n",
              "      <td>430.0</td>\n",
              "      <td>27108.528345</td>\n",
              "      <td>0.0</td>\n",
              "      <td>0.0</td>\n",
              "      <td>251.0</td>\n",
              "      <td>15.636364</td>\n",
              "      <td>47.337079</td>\n",
              "      <td>76.0</td>\n",
              "      <td>76.0</td>\n",
              "      <td>269.112360</td>\n",
              "      <td>41.0</td>\n",
              "      <td>40.0</td>\n",
              "      <td>62.0</td>\n",
              "      <td>3.272727</td>\n",
              "    </tr>\n",
              "    <tr>\n",
              "      <th>cy0007pw</th>\n",
              "      <td>92.284314</td>\n",
              "      <td>257.0</td>\n",
              "      <td>257.0</td>\n",
              "      <td>10372.542128</td>\n",
              "      <td>0.0</td>\n",
              "      <td>0.0</td>\n",
              "      <td>189.5</td>\n",
              "      <td>13.683168</td>\n",
              "      <td>52.313725</td>\n",
              "      <td>71.0</td>\n",
              "      <td>71.0</td>\n",
              "      <td>228.455057</td>\n",
              "      <td>52.0</td>\n",
              "      <td>41.0</td>\n",
              "      <td>66.0</td>\n",
              "      <td>2.970297</td>\n",
              "    </tr>\n",
              "  </tbody>\n",
              "</table>\n",
              "</div>"
            ],
            "text/plain": [
              "                  f0                                                  \\\n",
              "                mean    max  range           var median 1st_quantile   \n",
              "file                                                                   \n",
              "cy0001at  110.609375  402.0  402.0  27607.511657    0.0          0.0   \n",
              "cy0002at  105.640449  430.0  430.0  27108.528345    0.0          0.0   \n",
              "cy0005at  110.609375  402.0  402.0  27607.511657    0.0          0.0   \n",
              "cy0006at  105.640449  430.0  430.0  27108.528345    0.0          0.0   \n",
              "cy0007pw   92.284314  257.0  257.0  10372.542128    0.0          0.0   \n",
              "\n",
              "                                                           en              \\\n",
              "         3rd_quantile mean_absolute_local_derivate       mean   max range   \n",
              "file                                                                        \n",
              "cy0001at        331.0                    23.777778  47.296875  73.0  73.0   \n",
              "cy0002at        251.0                    15.636364  47.337079  76.0  76.0   \n",
              "cy0005at        331.0                    23.777778  47.296875  73.0  73.0   \n",
              "cy0006at        251.0                    15.636364  47.337079  76.0  76.0   \n",
              "cy0007pw        189.5                    13.683168  52.313725  71.0  71.0   \n",
              "\n",
              "                                                       \\\n",
              "                 var median 1st_quantile 3rd_quantile   \n",
              "file                                                    \n",
              "cy0001at  327.323165   41.5         40.0         67.0   \n",
              "cy0002at  269.112360   41.0         40.0         62.0   \n",
              "cy0005at  327.323165   41.5         40.0         67.0   \n",
              "cy0006at  269.112360   41.0         40.0         62.0   \n",
              "cy0007pw  228.455057   52.0         41.0         66.0   \n",
              "\n",
              "                                       \n",
              "         mean_absolute_local_derivate  \n",
              "file                                   \n",
              "cy0001at                     3.809524  \n",
              "cy0002at                     3.272727  \n",
              "cy0005at                     3.809524  \n",
              "cy0006at                     3.272727  \n",
              "cy0007pw                     2.970297  "
            ]
          },
          "metadata": {
            "tags": []
          },
          "execution_count": 34
        }
      ]
    },
    {
      "metadata": {
        "id": "Fx2bHYUhxvJu",
        "colab_type": "text"
      },
      "cell_type": "markdown",
      "source": [
        "## 2. Develop a classifier for these three classes"
      ]
    },
    {
      "metadata": {
        "id": "N4zymBwlxud-",
        "colab_type": "code",
        "colab": {}
      },
      "cell_type": "code",
      "source": [
        "X, Y = train_test(df=df)"
      ],
      "execution_count": 0,
      "outputs": []
    },
    {
      "metadata": {
        "id": "Z1Hquq0xxQ48",
        "colab_type": "code",
        "colab": {
          "base_uri": "https://localhost:8080/",
          "height": 51
        },
        "outputId": "89b02edf-7dac-4a21-a6b7-ca1be25ad2b1"
      },
      "cell_type": "code",
      "source": [
        "sklearn_knn(3, X, Y)"
      ],
      "execution_count": 38,
      "outputs": [
        {
          "output_type": "stream",
          "text": [
            "Accuracy score for voiced: 0.74\n",
            "Accuracy score for unvoiced: 0.45\n"
          ],
          "name": "stdout"
        }
      ]
    },
    {
      "metadata": {
        "id": "6BD7YXRi0AqF",
        "colab_type": "code",
        "colab": {
          "base_uri": "https://localhost:8080/",
          "height": 949
        },
        "outputId": "3f0ac63a-3d99-4438-c4da-6405ea3571db"
      },
      "cell_type": "code",
      "source": [
        "plt.figure()\n",
        "cm = kNN(3, X['voiced'], Y['voiced'], labels=[\"pw\", \"ap\", \"at\"])\n",
        "plot_confusion_matrix(cm, classes=[\"pw\", \"ap\", \"at\"],\n",
        "                      title='Confusion matrix, without normalization')\n",
        "plt.show()\n",
        "\n",
        "cm2 = kNN(3, X['unvoiced'], Y['unvoiced'], labels=[\"pw\", \"ap\", \"at\"])\n",
        "plot_confusion_matrix(cm2, classes=[\"pw\", \"ap\", \"at\"],\n",
        "                      title='Confusion matrix, without normalization')\n",
        "plt.show()"
      ],
      "execution_count": 53,
      "outputs": [
        {
          "output_type": "stream",
          "text": [
            "Confusion matrix, without normalization\n",
            "[[87  9  5]\n",
            " [12 66 30]\n",
            " [ 2 26 58]]\n"
          ],
          "name": "stdout"
        },
        {
          "output_type": "display_data",
          "data": {
            "image/png": "[encoded data removed]",
            "text/plain": [
              "<matplotlib.figure.Figure at 0x7f58cbabddd8>"
            ]
          },
          "metadata": {
            "tags": []
          }
        },
        {
          "output_type": "stream",
          "text": [
            "Confusion matrix, without normalization\n",
            "[[55 31 21]\n",
            " [24 46 32]\n",
            " [21 37 34]]\n"
          ],
          "name": "stdout"
        },
        {
          "output_type": "display_data",
          "data": {
            "image/png": "[encoded data removed]",
            "text/plain": [
              "<matplotlib.figure.Figure at 0x7f58cb9c6400>"
            ]
          },
          "metadata": {
            "tags": []
          }
        }
      ]
    },
    {
      "metadata": {
        "id": "8XprAjU8-uUo",
        "colab_type": "code",
        "colab": {}
      },
      "cell_type": "code",
      "source": [
        ""
      ],
      "execution_count": 0,
      "outputs": []
    }
  ]
}